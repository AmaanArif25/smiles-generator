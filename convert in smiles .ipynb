{
 "cells": [
  {
   "cell_type": "code",
   "execution_count": 2,
   "id": "67044a78",
   "metadata": {},
   "outputs": [
    {
     "name": "stdout",
     "output_type": "stream",
     "text": [
      "The original string is : Curcumin,Cinnamaldehyde,Gingerol,Allicin,Eugenol,Terpinylacetate,Diosgenin,Piperine,Cuminaldehyde,Linalool,Anethole,Allyl isothiocyanate,Myristicin,Crocin,Ferulicacid,Thymol,Eugenol,Anethole,Myristicin,Thymoquinone,Tartaricacid,Girinimbine,Ursolicacid,Menthol,Citral,Carvone,Apigenin,Linoleicacid,Sesamin,Lignans,Anethole,Ellagicacid,Rutin,Quercetin,Rosmarinicacid,Thymol,Carvacrol,Carnosicacid,Terpinen-4-ol,Apigenin,Ursolicacid,Allicin,Carvone,Diosgenin,Garcinol,Beta-carotene,Ascorbic acid,Oxalic acid,Tartaric acid,Phenethylisothiocyanate,VitaminC,Ecliptine,Bacoside,Protodioscin,Tinosporin,Chebulinicacid,Picroside,Alizarin,Azadirachtin,Shatavarin,Gallic acid,Embelin,Glycyrrhizin,Cassiafistula,Arjunolicacid,Asiaticoside,Psoralen,Ephedrine,Ecliptine,Gallicacid,Plumbagin,Berberine,phytochemicals,Tinosporin,Guggulsterone,Jatamansone,Andrographolide,Kaempferol,L-dopa,Charantin,Catechin,Loturine,Diosgenin,Cyperene,Cyperol,Nirgundin,Piperlongumine,Boeravinone,Santalin,Scopoletin,Fulvicacid,Valerenicacid,Ursolicacid,Asarone,Vasicine,Puerarin,Pterostilbene,Thymol,Glycyrrhizin\n",
      "The converted string : Curcumin,Cinnamaldehyde,Gingerol,Allicin,Eugenol,Terpinylacetate,Diosgenin,Piperine,Cuminaldehyde,Linalool,Anethole,Allyl isothiocyanate,Myristicin,Crocin,Ferulicacid,Thymol,Eugenol,Anethole,Myristicin,Thymoquinone,Tartaricacid,Girinimbine,Ursolicacid,Menthol,Citral,Carvone,Apigenin,Linoleicacid,Sesamin,Lignans,Anethole,Ellagicacid,Rutin,Quercetin,Rosmarinicacid,Thymol,Carvacrol,Carnosicacid,Terpinen-4-ol,Apigenin,Ursolicacid,Allicin,Carvone,Diosgenin,Garcinol,Beta-carotene,Ascorbic acid,Oxalic acid,Tartaric acid,Phenethylisothiocyanate,VitaminC,Ecliptine,Bacoside,Protodioscin,Tinosporin,Chebulinicacid,Picroside,Alizarin,Azadirachtin,Shatavarin,Gallic acid,Embelin,Glycyrrhizin,Cassiafistula,Arjunolicacid,Asiaticoside,Psoralen,Ephedrine,Ecliptine,Gallicacid,Plumbagin,Berberine,phytochemicals,Tinosporin,Guggulsterone,Jatamansone,Andrographolide,Kaempferol,L-dopa,Charantin,Catechin,Loturine,Diosgenin,Cyperene,Cyperol,Nirgundin,Piperlongumine,Boeravinone,Santalin,Scopoletin,Fulvicacid,Valerenicacid,Ursolicacid,Asarone,Vasicine,Puerarin,Pterostilbene,Thymol,Glycyrrhizin\n"
     ]
    }
   ],
   "source": [
    "# Python3 code to demonstrate working of\n",
    "# Interconvert Horizontal and Vertical String\n",
    "# using [Vertical to Horizontal] using replace() + \"\\n\"\n",
    " \n",
    "# initializing string\n",
    "test_str = 'Curcumin,Cinnamaldehyde,Gingerol,Allicin,Eugenol,Terpinylacetate,Diosgenin,Piperine,Cuminaldehyde,Linalool,Anethole,Allyl isothiocyanate,Myristicin,Crocin,Ferulicacid,Thymol,Eugenol,Anethole,Myristicin,Thymoquinone,Tartaricacid,Girinimbine,Ursolicacid,Menthol,Citral,Carvone,Apigenin,Linoleicacid,Sesamin,Lignans,Anethole,Ellagicacid,Rutin,Quercetin,Rosmarinicacid,Thymol,Carvacrol,Carnosicacid,Terpinen-4-ol,Apigenin,Ursolicacid,Allicin,Carvone,Diosgenin,Garcinol,Beta-carotene,Ascorbic acid,Oxalic acid,Tartaric acid,Phenethylisothiocyanate,VitaminC,Ecliptine,Bacoside,Protodioscin,Tinosporin,Chebulinicacid,Picroside,Alizarin,Azadirachtin,Shatavarin,Gallic acid,Embelin,Glycyrrhizin,Cassiafistula,Arjunolicacid,Asiaticoside,Psoralen,Ephedrine,Ecliptine,Gallicacid,Plumbagin,Berberine,phytochemicals,Tinosporin,Guggulsterone,Jatamansone,Andrographolide,Kaempferol,L-dopa,Charantin,Catechin,Loturine,Diosgenin,Cyperene,Cyperol,Nirgundin,Piperlongumine,Boeravinone,Santalin,Scopoletin,Fulvicacid,Valerenicacid,Ursolicacid,Asarone,Vasicine,Puerarin,Pterostilbene,Thymol,Glycyrrhizin'\n",
    " \n",
    "# printing original String\n",
    "print(\"The original string is : \" + str(test_str))\n",
    " \n",
    "# using replace() + \"\\n\" to solve this problem\n",
    "res = test_str.replace(\"\\n\", \"\")\n",
    "     \n",
    "# printing result\n",
    "print(\"The converted string : \" + str(res))"
   ]
  },
  {
   "cell_type": "code",
   "execution_count": 3,
   "id": "75c802b4",
   "metadata": {},
   "outputs": [
    {
     "name": "stdout",
     "output_type": "stream",
     "text": [
      "['Curcumin', 'Cinnamaldehyde', 'Gingerol', 'Allicin', 'Eugenol', 'Terpinylacetate', 'Diosgenin', 'Piperine', 'Cuminaldehyde', 'Linalool', 'Anethole', 'Allyl isothiocyanate', 'Myristicin', 'Crocin', 'Ferulicacid', 'Thymol', 'Eugenol', 'Anethole', 'Myristicin', 'Thymoquinone', 'Tartaricacid', 'Girinimbine', 'Ursolicacid', 'Menthol', 'Citral', 'Carvone', 'Apigenin', 'Linoleicacid', 'Sesamin', 'Lignans', 'Anethole', 'Ellagicacid', 'Rutin', 'Quercetin', 'Rosmarinicacid', 'Thymol', 'Carvacrol', 'Carnosicacid', 'Terpinen-4-ol', 'Apigenin', 'Ursolicacid', 'Allicin', 'Carvone', 'Diosgenin', 'Garcinol', 'Beta-carotene', 'Ascorbic acid', 'Oxalic acid', 'Tartaric acid', 'Phenethylisothiocyanate', 'VitaminC', 'Ecliptine', 'Bacoside', 'Protodioscin', 'Tinosporin', 'Chebulinicacid', 'Picroside', 'Alizarin', 'Azadirachtin', 'Shatavarin', 'Gallic acid', 'Embelin', 'Glycyrrhizin', 'Cassiafistula', 'Arjunolicacid', 'Asiaticoside', 'Psoralen', 'Ephedrine', 'Ecliptine', 'Gallicacid', 'Plumbagin', 'Berberine', 'phytochemicals', 'Tinosporin', 'Guggulsterone', 'Jatamansone', 'Andrographolide', 'Kaempferol', 'L-dopa', 'Charantin', 'Catechin', 'Loturine', 'Diosgenin', 'Cyperene', 'Cyperol', 'Nirgundin', 'Piperlongumine', 'Boeravinone', 'Santalin', 'Scopoletin', 'Fulvicacid', 'Valerenicacid', 'Ursolicacid', 'Asarone', 'Vasicine', 'Puerarin', 'Pterostilbene', 'Thymol', 'Glycyrrhizin']\n"
     ]
    }
   ],
   "source": [
    "txt = \"Curcumin,Cinnamaldehyde,Gingerol,Allicin,Eugenol,Terpinylacetate,Diosgenin,Piperine,Cuminaldehyde,Linalool,Anethole,Allyl isothiocyanate,Myristicin,Crocin,Ferulicacid,Thymol,Eugenol,Anethole,Myristicin,Thymoquinone,Tartaricacid,Girinimbine,Ursolicacid,Menthol,Citral,Carvone,Apigenin,Linoleicacid,Sesamin,Lignans,Anethole,Ellagicacid,Rutin,Quercetin,Rosmarinicacid,Thymol,Carvacrol,Carnosicacid,Terpinen-4-ol,Apigenin,Ursolicacid,Allicin,Carvone,Diosgenin,Garcinol,Beta-carotene,Ascorbic acid,Oxalic acid,Tartaric acid,Phenethylisothiocyanate,VitaminC,Ecliptine,Bacoside,Protodioscin,Tinosporin,Chebulinicacid,Picroside,Alizarin,Azadirachtin,Shatavarin,Gallic acid,Embelin,Glycyrrhizin,Cassiafistula,Arjunolicacid,Asiaticoside,Psoralen,Ephedrine,Ecliptine,Gallicacid,Plumbagin,Berberine,phytochemicals,Tinosporin,Guggulsterone,Jatamansone,Andrographolide,Kaempferol,L-dopa,Charantin,Catechin,Loturine,Diosgenin,Cyperene,Cyperol,Nirgundin,Piperlongumine,Boeravinone,Santalin,Scopoletin,Fulvicacid,Valerenicacid,Ursolicacid,Asarone,Vasicine,Puerarin,Pterostilbene,Thymol,Glycyrrhizin\"\n",
    "\n",
    "x = txt.split(\",\")\n",
    "\n",
    "print(x)"
   ]
  },
  {
   "cell_type": "code",
   "execution_count": 4,
   "id": "7ab22718",
   "metadata": {},
   "outputs": [
    {
     "name": "stdout",
     "output_type": "stream",
     "text": [
      "Curcumin COc1cc(\\C=C\\C(=O)CC(=O)\\C=C\\c2ccc(O)c(OC)c2)ccc1O\n",
      "Cinnamaldehyde O=CC=Cc1ccccc1\n",
      "Gingerol CCCCCC(O)CC(=O)CCC1CCC(O)C(C1)OC\n",
      "Allicin C=CCS[S](=O)CC=C\n",
      "Eugenol COc1cc(CC=C)ccc1O\n",
      "Terpinyl acetate CC(O)=O.CC1(C)C2CCC(C)(C1C2)C3(C)CCC4CC3(C4(C)C)C5(C)CCC6CC5C6(C)C\n",
      "Diosgenin CC1CCC2(OC1)OC3CC4C5CC=C6CC(O)CCC6(C)C5CCC4(C)C3C2C\n",
      "Piperine O=C(/C=C/C=C/c1ccc2OCOc2c1)N3CCCCC3\n",
      "Cuminaldehyde CC(C)c1ccc(C=O)cc1\n",
      "Linalool CC(C)=CCCC(C)(O)C=C\n",
      "Anethole COc1ccc(C=CC)cc1\n",
      "Allyl isothiocyanate C=CCN=C=S\n",
      "Myristicin COc1cc(CC=C)cc2OCOc12\n",
      "Crocin CC(=C\\C=C\\C=C(C)\\C=C\\C=C(/C)C(=O)O[C@@H]1O[C@H](CO[C@@H]2O[C@H](CO)[C@@H](O)[C@H](O)[C@H]2O)[C@@H](O)[C@H](O)[C@H]1O)/C=C/C=C(\\C)C(=O)O[C@@H]3O[C@H](CO[C@@H]4O[C@H](CO)[C@@H](O)[C@H](O)[C@H]4O)[C@@H](O)[C@H](O)[C@H]3O\n",
      "Ferulic acid COc1cc(\\C=C\\C(O)=O)ccc1O\n",
      "Thymol CC(C)c1ccc(C)cc1O\n",
      "Eugenol COc1cc(CC=C)ccc1O\n",
      "Anethole COc1ccc(C=CC)cc1\n",
      "Myristicin COc1cc(CC=C)cc2OCOc12\n",
      "Thymoquinone CC(C)C1=CC(=O)C(=CC1=O)C\n",
      "Tartaric acid OC(C(O)C(O)=O)C(O)=O\n",
      "Girinimbine Cc1cc2c([nH]c3ccccc23)c4C=CC(C)(C)Oc14\n",
      "Ursolic acid C[C@@H]1CC[C@@]2(CC[C@]3(C)C(=CC[C@@H]4[C@@]5(C)CC[C@H](O)C(C)(C)[C@@H]5CC[C@@]34C)[C@@H]2[C@H]1C)C(O)=O\n",
      "Menthol CC(C)C1CCC(C)CC1O\n",
      "Citral CC(C)=CCCC(C)=CC=O\n",
      "Carvone CC(=C)[C@H]1CC=C(C)C(=O)C1\n",
      "Apigenin Oc1ccc(cc1)C2=CC(=O)c3c(O)cc(O)cc3O2\n",
      "Linoleic acid CCCCC/C=C\\C\\C=C/CCCCCCCC(O)=O\n",
      "Sesamin C1Oc2ccc(cc2O1)[C@H]3OC[C@H]4[C@@H]3CO[C@@H]4c5ccc6OCOc6c5\n",
      "Lignans Did not work\n",
      "Anethole COc1ccc(C=CC)cc1\n",
      "Ellagic acid Oc1cc2C(=O)Oc3c(O)c(O)cc4C(=O)Oc(c1O)c2c34\n",
      "Rutin C[C@@H]1O[C@@H](OC[C@H]2O[C@@H](OC3=C(Oc4cc(O)cc(O)c4C3=O)c5ccc(O)c(O)c5)[C@H](O)[C@@H](O)[C@@H]2O)[C@H](O)[C@H](O)[C@H]1O\n",
      "Quercetin Oc1cc(O)c2C(=O)C(=C(Oc2c1)c3ccc(O)c(O)c3)O\n",
      "Rosmarinic acid OC(=O)[C@@H](Cc1ccc(O)c(O)c1)OC(=O)/C=C/c2ccc(O)c(O)c2\n",
      "Thymol CC(C)c1ccc(C)cc1O\n",
      "Carvacrol CC(C)c1ccc(C)c(O)c1\n",
      "Carnosic acid CC(C)c1cc2CC[C@H]3C(C)(C)CCC[C@]3(C(O)=O)c2c(O)c1O\n",
      "Terpinen-4-ol CC1=C2CC(CC1C3(CC4CC(=C3C)C4(C)C)C5C(O)C6CC(=C5C)C6(C)C)C2(C)C\n",
      "Apigenin Oc1ccc(cc1)C2=CC(=O)c3c(O)cc(O)cc3O2\n",
      "Ursolic acid C[C@@H]1CC[C@@]2(CC[C@]3(C)C(=CC[C@@H]4[C@@]5(C)CC[C@H](O)C(C)(C)[C@@H]5CC[C@@]34C)[C@@H]2[C@H]1C)C(O)=O\n",
      "Allicin C=CCS[S](=O)CC=C\n",
      "Carvone CC(=C)[C@H]1CC=C(C)C(=O)C1\n",
      "Diosgenin CC1CCC2(OC1)OC3CC4C5CC=C6CC(O)CCC6(C)C5CCC4(C)C3C2C\n",
      "Garcinol CC(C)=CC[C@@H](C[C@@]12C[C@@H](CC=C(C)C)C(C)(C)[C@@](CC=C(C)C)(C(=O)\\C(=C(O)\\c3ccc(O)c(O)c3)C1=O)C2=O)C(C)=C\n",
      "Beta-carotene CC1=C(\\C=C\\C(C)=C\\C=C\\C(C)=C\\C=C\\C=C(C)\\C=C\\C=C(C)\\C=C\\C2=C(C)CCCC2(C)C)C(C)(C)CCC1\n",
      "Ascorbic acid OCC(O)C1OC(=C(O)C1=O)O\n",
      "Oxalic acid OC(=O)C(O)=O\n",
      "Tartaric acid OC(C(O)C(O)=O)C(O)=O\n",
      "Phenethyl isothiocyanate S=C=NCCc1ccccc1\n",
      "Vitamin C OC[C@H](O)[C@H]1OC(=O)C(=C1O)O\n",
      "Ecliptine Did not work\n",
      "Bacoside Did not work\n",
      "Protodioscin C[C@H](CC[C@@]1(O)O[C@H]2C[C@H]3[C@@H]4CC=C5C[C@H](CC[C@]5(C)[C@H]4CC[C@]3(C)[C@H]2[C@@H]1C)O[C@@H]6O[C@H](CO)[C@@H](O[C@@H]7O[C@@H](C)[C@H](O)[C@@H](O)[C@H]7O)[C@H](O)[C@H]6O[C@@H]8O[C@@H](C)[C@H](O)[C@@H](O)[C@H]8O)CO[C@@H]9O[C@H](CO)[C@@H](O)[C@H](O)[C@H]9O\n",
      "Tinosporin C[C@@]12C[C@H](OC(=O)[C@@H]1CC[C@]3(C)[C@H]2[C@@H]4OC(=O)[C@@]3(O)C=C4)c5cocc5\n",
      "Chebulinic acid O[C@H]1[C@H]2[C@H](CC(O)=O)C(=O)O[C@@H]3[C@@H](COC(=O)c4cc(O)c(O)c(O)c4)O[C@@H](OC(=O)c5cc(O)c(O)c(O)c5)[C@H](OC(=O)c6cc(O)c(O)c(OC1=O)c26)[C@H]3OC(=O)c7cc(O)c(O)c(O)c7\n",
      "Picroside Did not work\n",
      "Alizarin Oc1ccc2C(=O)c3ccccc3C(=O)c2c1O\n",
      "Azadirachtin Did not work\n",
      "Shatavarin Did not work\n",
      "Gallic acid OC(=O)c1cc(O)c(O)c(O)c1\n",
      "Embelin CCCCCCCCCCCC1=C(O)C(=O)C=C(O)C1=O\n",
      "Glycyrrhizin N.CC1(C)[C@H](CC[C@@]2(C)C1CC[C@]3(C)[C@@H]2C(=O)C=C4[C@@H]5C[C@](C)(CC[C@]5(C)CC[C@@]34C)C(O)=O)O[C@H]6O[C@@H]([C@@H](O)[C@H](O)[C@H]6O[C@@H]7O[C@@H]([C@@H](O)[C@H](O)[C@H]7O)C(O)=O)C(O)=O\n",
      "Cassia fistula Did not work\n",
      "Arjunolic acid CC1(C)CC[C@@]2(CC[C@]3(C)C(=CC[C@@H]4[C@@]5(C)C[C@@H](O)[C@H](O)[C@@](C)(CO)[C@@H]5CC[C@@]34C)[C@@H]2C1)C(O)=O\n",
      "Asiaticoside CC1CC(C2CCC3(C)C4CCC5C(C)(CO)C(O)C(O)CC5(C)C4(C)CC=C3C2C1C)C(=O)OC6OC(COC7OC(CO)C(OC8OC(C)C(O)C(O)C8O)C(O)C7O)C(O)C(O)C6O\n",
      "Psoralen O=C1Oc2cc3occc3cc2C=C1\n",
      "Ephedrine CN[C@@H](C)[C@H](O)c1ccccc1\n",
      "Ecliptine Did not work\n",
      "Gallic acid OC(=O)c1cc(O)c(O)c(O)c1\n",
      "Plumbagin CC1=CC(=O)c2c(O)cccc2C1=O\n",
      "Berberine COc1ccc2cc3c4cc5OCOc5cc4CC[n+]3cc2c1OC\n",
      "phytochemicals Did not work\n",
      "Tinosporin C[C@@]12C[C@H](OC(=O)[C@@H]1CC[C@]3(C)[C@H]2[C@@H]4OC(=O)[C@@]3(O)C=C4)c5cocc5\n",
      "Guggulsterone C\\C=C/1C(=O)C[C@H]2[C@@H]3CCC4=CC(=O)CC[C@]4(C)[C@H]3CC[C@]12C\n",
      "Jatamansone CC(C)[C@@H]1CCC2(C)CCCC(=O)C2(C)C1\n",
      "Andrographolide C[C@@]1(CO)[C@H](O)CC[C@@]2(C)[C@H](C\\C=C3/[C@H](O)COC3=O)C(=C)CC[C@H]12\n",
      "Kaempferol Oc1ccc(cc1)C2=C(O)C(=O)c3c(O)cc(O)cc3O2\n",
      "L-dopa N[C@@H](Cc1ccc(O)c(O)c1)C(O)=O\n",
      "Charantin Did not work\n",
      "Catechin O[C@H]1Cc2c(O)cc(O)cc2O[C@@H]1c3ccc(O)c(O)c3\n",
      "Loturine Cc1nccc2c1[nH]c3ccccc23\n",
      "Diosgenin CC1CCC2(OC1)OC3CC4C5CC=C6CC(O)CCC6(C)C5CCC4(C)C3C2C\n",
      "Cyperene CC1CCC2CC3=C(C)CCC13C2(C)C\n",
      "Cyperol CC(=C)[C@@H]1CC[C@@]2(C)CCC(O)C(=C2C1)C\n",
      "Nirgundin Did not work\n",
      "Piperlongumine COc1cc(\\C=C\\C(=O)N2CCC=CC2=O)cc(OC)c1OC\n",
      "Boeravinone Did not work\n",
      "Santalin COc1c(O)cc2C(=O)C3=C(CCCC3)C(=O)c2c1O\n",
      "Scopoletin COc1cc2C=CC(=O)Oc2cc1O\n",
      "Fulvic acid OC(=O)C1=CC=CC1=C\n",
      "Valerenic acid C[C@@H]1CC[C@@H](\\C=C(\\C)C(O)=O)C2=C(C)CC[C@H]12\n",
      "Ursolic acid C[C@@H]1CC[C@@]2(CC[C@]3(C)C(=CC[C@@H]4[C@@]5(C)CC[C@H](O)C(C)(C)[C@@H]5CC[C@@]34C)[C@@H]2[C@H]1C)C(O)=O\n",
      "Asarone COc1cc(OC)c(\\C=C/C)cc1OC\n",
      "Vasicine O[C@@H]1CCN2Cc3ccccc3N=C12\n",
      "Puerarin OC[C@H]1O[C@H]([C@H](O)[C@@H](O)[C@@H]1O)c2c(O)ccc3C(=O)C(=COc23)c4ccc(O)cc4\n",
      "Pterostilbene COc1cc(OC)cc(\\C=C\\c2ccc(O)cc2)c1\n",
      "Thymol CC(C)c1ccc(C)cc1O\n",
      "Glycyrrhizin N.CC1(C)[C@H](CC[C@@]2(C)C1CC[C@]3(C)[C@@H]2C(=O)C=C4[C@@H]5C[C@](C)(CC[C@]5(C)CC[C@@]34C)C(O)=O)O[C@H]6O[C@@H]([C@@H](O)[C@H](O)[C@H]6O[C@@H]7O[C@@H]([C@@H](O)[C@H](O)[C@H]7O)C(O)=O)C(O)=O\n"
     ]
    }
   ],
   "source": [
    "from urllib.request import urlopen\n",
    "from urllib.parse import quote\n",
    "\n",
    "def CIRconvert(ids):\n",
    "    try:\n",
    "        url = 'http://cactus.nci.nih.gov/chemical/structure/' + quote(ids) + '/smiles'\n",
    "        ans = urlopen(url).read().decode('utf8')\n",
    "        return ans\n",
    "    except:\n",
    "        return 'Did not work'\n",
    "\n",
    "identifiers  = ['Curcumin', 'Cinnamaldehyde', 'Gingerol', 'Allicin', 'Eugenol', 'Terpinyl acetate', 'Diosgenin', 'Piperine', 'Cuminaldehyde', 'Linalool', 'Anethole', 'Allyl isothiocyanate', 'Myristicin', 'Crocin', 'Ferulic acid', 'Thymol', 'Eugenol', 'Anethole', 'Myristicin', 'Thymoquinone', 'Tartaric acid', 'Girinimbine', 'Ursolic acid', 'Menthol', 'Citral', 'Carvone', 'Apigenin', 'Linoleic acid', 'Sesamin', 'Lignans', 'Anethole', 'Ellagic acid', 'Rutin', 'Quercetin', 'Rosmarinic acid', 'Thymol', 'Carvacrol', 'Carnosic acid', 'Terpinen-4-ol', 'Apigenin', 'Ursolic acid', 'Allicin', 'Carvone', 'Diosgenin', 'Garcinol', 'Beta-carotene', 'Ascorbic acid', 'Oxalic acid', 'Tartaric acid', 'Phenethyl isothiocyanate', 'Vitamin C', 'Ecliptine', 'Bacoside', 'Protodioscin', 'Tinosporin', 'Chebulinic acid', 'Picroside', 'Alizarin', 'Azadirachtin', 'Shatavarin', 'Gallic acid', 'Embelin', 'Glycyrrhizin', 'Cassia fistula', 'Arjunolic acid', 'Asiaticoside', 'Psoralen', 'Ephedrine', 'Ecliptine', 'Gallic acid', 'Plumbagin', 'Berberine', 'phytochemicals', 'Tinosporin', 'Guggulsterone', 'Jatamansone', 'Andrographolide', 'Kaempferol', 'L-dopa', 'Charantin', 'Catechin', 'Loturine', 'Diosgenin', 'Cyperene', 'Cyperol', 'Nirgundin', 'Piperlongumine', 'Boeravinone', 'Santalin', 'Scopoletin', 'Fulvic acid', 'Valerenic acid', 'Ursolic acid', 'Asarone', 'Vasicine', 'Puerarin', 'Pterostilbene', 'Thymol', 'Glycyrrhizin']\n",
    "\n",
    "for ids in identifiers :\n",
    "    print(ids, CIRconvert(ids))"
   ]
  },
  {
   "cell_type": "code",
   "execution_count": null,
   "id": "bbffe332",
   "metadata": {},
   "outputs": [],
   "source": [
    "def Convert(string):\n",
    "    li = list(string.split(\" \"))\n",
    "    return li\n",
    "  \n",
    "  \n",
    "# Driver code\n",
    "str1 = \"\"\n",
    "print(Convert(str1))"
   ]
  }
 ],
 "metadata": {
  "kernelspec": {
   "display_name": "Python 3 (ipykernel)",
   "language": "python",
   "name": "python3"
  },
  "language_info": {
   "codemirror_mode": {
    "name": "ipython",
    "version": 3
   },
   "file_extension": ".py",
   "mimetype": "text/x-python",
   "name": "python",
   "nbconvert_exporter": "python",
   "pygments_lexer": "ipython3",
   "version": "3.10.9"
  }
 },
 "nbformat": 4,
 "nbformat_minor": 5
}
